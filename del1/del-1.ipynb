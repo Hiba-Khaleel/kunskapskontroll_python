{
 "cells": [
  {
   "cell_type": "markdown",
   "metadata": {},
   "source": [
    "# Vad är skillnaden på en tuple och list i Python? Är den ena datatypen bättre än den andra? \n",
    "\n",
    "The main difference is mutability, tuple is immutable, meaning its content cannot be changed after creation, while a list is mutable, meaning it can be modified—you can add, remove, or update its elements.\n",
    "\n",
    "Which one is \"better\" depends on your use case. Both are sequential data types, meaning you can iterate over their elements and access items using an index inside square brackets ([index]).\n",
    "\n",
    "tuples:\n",
    "\n",
    "- Great for data that should not be changed.\n",
    "- More memory-efficient and faster to access than lists.\n",
    "- Useful when you want to protect data from modification.\n",
    "- Created using parentheses ( ).\n",
    "- Has a fixed length.\n",
    "\n",
    "my_tuple = (1, 2, 3)\n",
    "my_tuple[0] = 5  #  Error: 'tuple' object does not support item assignment\n",
    "\n",
    "\n",
    "List:\n",
    "\n",
    "- Suitable when you need to modify the data like adding, removing or changing.\n",
    "- Created using square brackets [ ].\n",
    "- Has a dynamic length (you can change the number of items).\n",
    "\n",
    "\n",
    "my_list = [1, 2, 3]\n",
    "my_list[0] = 5      #  Lists are mutable\n",
    "my_list.append(4)   #  Adds a new element at the end\n",
    "my_list.remove(2)   #  Removes an element"
   ]
  },
  {
   "cell_type": "code",
   "execution_count": 3,
   "metadata": {},
   "outputs": [
    {
     "ename": "TypeError",
     "evalue": "'tuple' object does not support item assignment",
     "output_type": "error",
     "traceback": [
      "\u001b[31m---------------------------------------------------------------------------\u001b[39m",
      "\u001b[31mTypeError\u001b[39m                                 Traceback (most recent call last)",
      "\u001b[36mCell\u001b[39m\u001b[36m \u001b[39m\u001b[32mIn[3]\u001b[39m\u001b[32m, line 2\u001b[39m\n\u001b[32m      1\u001b[39m my_tuple = (\u001b[32m1\u001b[39m, \u001b[32m2\u001b[39m, \u001b[32m3\u001b[39m)\n\u001b[32m----> \u001b[39m\u001b[32m2\u001b[39m \u001b[43mmy_tuple\u001b[49m\u001b[43m[\u001b[49m\u001b[32;43m0\u001b[39;49m\u001b[43m]\u001b[49m = \u001b[32m5\u001b[39m \n\u001b[32m      4\u001b[39m \u001b[38;5;28mprint\u001b[39m(my_tuple) \u001b[38;5;66;03m# giving error because tuple is immutable\u001b[39;00m\n",
      "\u001b[31mTypeError\u001b[39m: 'tuple' object does not support item assignment"
     ]
    }
   ],
   "source": [
    "my_tuple = (1, 2, 3)\n",
    "my_tuple[0] = 5 \n",
    "\n",
    "print(my_tuple) # giving error because tuple is immutable\n"
   ]
  },
  {
   "cell_type": "code",
   "execution_count": 2,
   "metadata": {},
   "outputs": [
    {
     "name": "stdout",
     "output_type": "stream",
     "text": [
      "[5, 3, 4]\n"
     ]
    }
   ],
   "source": [
    "my_list = [1, 2, 3]\n",
    "my_list[0] = 5      \n",
    "my_list.append(4)   \n",
    "my_list.remove(2) \n",
    "print(my_list)"
   ]
  },
  {
   "cell_type": "markdown",
   "metadata": {},
   "source": [
    "# Vad är en funktion för något? Varför kan funktioner vara användbara? \n",
    "\n",
    "A function is a block of reusable code that only runs when it is called.\n",
    "You can pass data into a function using parameters, and a function can also return data as a result.\n",
    "\n",
    "In Python, a function is defined using the def keyword, followed by the function name and parentheses () which may include parameters. To call the function, you simply write its name followed by parentheses.\n",
    "\n",
    "\n",
    "Why functions are useful:\n",
    "\n",
    "- They help us to organize code into logical blocks.\n",
    "- Improve readability and reusability by using it many times in the code.\n",
    "- Make the code easier to debug and maintain.\n",
    "- avoid repetition (DRY principle – Don't Repeat Yourself).\n",
    "- Can return results, enabling modular logic.\n",
    "\n"
   ]
  },
  {
   "cell_type": "code",
   "execution_count": 11,
   "metadata": {},
   "outputs": [
    {
     "name": "stdout",
     "output_type": "stream",
     "text": [
      "hello hiba\n"
     ]
    }
   ],
   "source": [
    "def greeting(name):\n",
    "  print('hello', name)\n",
    "\n",
    "greeting('hiba')\n"
   ]
  },
  {
   "cell_type": "markdown",
   "metadata": {},
   "source": [
    "# Förklara vad nedanstående begrepp, kopplat till klasser, betyder:\n",
    "\n",
    "Instans:\n",
    "an instance object is an individual object created from a class, which serves as a blueprint defining the attributes (data) and methods (functions) for the object. When we create an object from a class, it is referred to as an instance. Each instance has its own unique data but shares the class's methods.\n",
    "\n",
    "\n",
    "Attribut:\n",
    "Attributes in Python are characteristics of an object — such as variables or methods — that store data about its properties and behavior. Attributes can be class attributes (which belong within a class) or instance attributes (which belong to a specific object).\n",
    "There are two types of attributes in Python:\n",
    "-  class attributes and instance attributes. Class attributes are variables that belong to a class, and are shared between all objects or instances of the class. \n",
    "- Instance attributes are variables that are unique to each object or instance of a class; an instance attribute belongs to one object only and is not shared between other objects.\n",
    "\n",
    "\n",
    "Metod:\n",
    "In Python, methods are functions that are defined as part of a class. It is common practice that the first argument of any method that is part of a class is the actual object calling the method. This argument is usually called self.\n",
    "\n",
    "for example :\n"
   ]
  },
  {
   "cell_type": "code",
   "execution_count": 5,
   "metadata": {},
   "outputs": [
    {
     "name": "stdout",
     "output_type": "stream",
     "text": [
      "Hi, my name is Alice and I am 30 years old.\n",
      "Hi, my name is Bob and I am 25 years old.\n",
      "Human\n",
      "Human\n"
     ]
    }
   ],
   "source": [
    "class Person:\n",
    "    # Class attribute (shared by all instances)\n",
    "    species = \"Human\"\n",
    "\n",
    "    # Constructor with instance attributes\n",
    "    def __init__(self, name, age):\n",
    "        self.name = name         # Instance attribute\n",
    "        self.age = age           # Instance attribute\n",
    "\n",
    "    # Method\n",
    "    def greet(self):\n",
    "        return f\"Hi, my name is {self.name} and I am {self.age} years old.\"\n",
    "\n",
    "# Creating instances (objects) of the Person class\n",
    "person1 = Person(\"Alice\", 30)\n",
    "person2 = Person(\"Bob\", 25)\n",
    "\n",
    "# Accessing attributes and calling methods\n",
    "print(person1.greet())   \n",
    "print(person2.greet()) \n",
    "\n",
    "# Accessing class attribute\n",
    "print(person1.species)  \n",
    "print(person2.species)  \n"
   ]
  },
  {
   "cell_type": "markdown",
   "metadata": {},
   "source": [
    "# Vad är Streamlit för något?\n",
    "\n",
    "Streamlit is an open-source Python library that lets you quickly build interactive web applications for data science and machine learning projects. It’s designed to make it easy for non-web developers—like data scientists and ML engineers—to turn their Python scripts into shareable apps with just a few lines of code.\n",
    "\n",
    "Why do we use Streamlit?\n",
    "- Simplicity: You can create powerful apps using only Python—no need for HTML, CSS, or JavaScript.\n",
    "- Rapid Prototyping: Build and test interactive dashboards or ML tools in minutes.\n",
    "- Visualization: Easily display data, charts, and model outputs in a clean, user-friendly interface.\n",
    "- Interactivity: Add sliders, buttons, inputs, and more to collect user input and control your app in real-time.\n",
    "- Sharing: Deploy and share your app instantly, which is perfect for demos, internal tools, or client reports.\n",
    "- In short, Streamlit helps bridge the gap between your data code and a usable interface—without the complexity of traditional web development."
   ]
  },
  {
   "cell_type": "markdown",
   "metadata": {},
   "source": [
    "# 5- I Python ska du nu:\n",
    "- a) Skapa en klass som heter BankAccount. Klassen skall ha attributet \"account_holder\"\n",
    "som visar kontoinnehavarens namn samt attributet \"balance\" som visar\n",
    "kontoinnehavarens balans. Klassen skall ha metoden \"deposit()\" för att kunna sätta in\n",
    "pengar på kontot samt metoden \"withdraw()\" för att kunna ta ut pengar från kontot. Om\n",
    "bankinnehavaren försöker ta ut mer pengar än vad som finns på kontot skall\n",
    "meddelandet \"Too low balance\" printas ut.\n",
    "- b) Skapa en instans av klassen och testa så klassen funkar så som du förväntar dig. Du\n",
    "kan till exempel prova printa ut attributen, sätta in pengar och ta ut pengar."
   ]
  },
  {
   "cell_type": "code",
   "execution_count": 1,
   "metadata": {},
   "outputs": [
    {
     "name": "stdout",
     "output_type": "stream",
     "text": [
      "Deposited: $400\n",
      "New balance: $800\n",
      "withdraw: $200\n",
      "your balance now is: $600\n",
      "BankAccount(holder='Hiba', balance=600)\n"
     ]
    }
   ],
   "source": [
    "class BankAccount:\n",
    "    def __init__(self, account_holder,balance):\n",
    "        self.account_holder=account_holder\n",
    "        self.balance=balance\n",
    "    \n",
    "    def deposit(self,amount):\n",
    "        if amount > 0:\n",
    "          self.balance+=amount\n",
    "          print(f'Deposited: ${amount}')\n",
    "          print(f'New balance: ${self.balance}')\n",
    "        else:\n",
    "            print('Deposit amount should be positive')\n",
    "\n",
    "         \n",
    "\n",
    "    def withdraw(self,amount):\n",
    "        if(self.balance<amount):\n",
    "            print(f'Too low balance!! there is no enough money to draw your balance is: {self.balance} ')\n",
    "            return\n",
    "        self.balance-=amount\n",
    "        print(f'withdraw: ${amount}')\n",
    "        print(f'your balance now is: ${self.balance}')\n",
    "\n",
    "        \n",
    "\n",
    "    def __str__(self):\n",
    "       return f\"BankAccount(holder='{self.account_holder}', balance={self.balance})\"\n",
    "    \n",
    "\n",
    "Bankomat = BankAccount('Hiba', 400)\n",
    "Bankomat.deposit(400)\n",
    "Bankomat.withdraw(200)\n",
    "print(Bankomat) \n",
    "\n",
    "        "
   ]
  },
  {
   "cell_type": "markdown",
   "metadata": {},
   "source": [
    "# 6\n",
    "På intervjuer brukar ibland kodtest genomföras. Här är ett exempel på en fråga som hade\n",
    "kunnat dyka upp på ett kodtest.\n",
    "Skapa en Python funktion som beräknar antalet vokaler i en sträng. Vokalerna är:\n",
    "A, E, I, O, U, Y, Å, Ä och Ö."
   ]
  },
  {
   "cell_type": "code",
   "execution_count": 3,
   "metadata": {},
   "outputs": [
    {
     "name": "stdout",
     "output_type": "stream",
     "text": [
      "2\n",
      "5\n",
      "6\n"
     ]
    }
   ],
   "source": [
    "vokalerna='AEIOUYÅÄÖ'\n",
    "\n",
    "def vowel_checker(word):\n",
    "    count=0\n",
    "    for e in word.lower():\n",
    "        if e in vokalerna.lower():\n",
    "         count+=1\n",
    "    return count\n",
    "\n",
    "\n",
    "print(vowel_checker('hjärna'))\n",
    "print(vowel_checker('Python Programming'))\n",
    "print(vowel_checker('God Morgon Sverige'))\n",
    "\n",
    "\n",
    "      \n",
    "    "
   ]
  },
  {
   "cell_type": "markdown",
   "metadata": {},
   "source": [
    "# 7\n",
    "På intervjuer brukar ibland kodtest genomföras. Här är ett exempel på en fråga som hade\n",
    "kunnat dyka upp på ett kodtest.\n",
    "Skapa en funktion som tar två listor som argument och returnerar de gemensamma\n",
    "elementen i listorna i en ny lista.\n",
    "Exempelvis:\n",
    "common_elements([4, ’apple’, 10, ’hi’, 3], ([23 ’apple’, 5, 9, 3]) ska returnera svaret\n",
    "[’apple’, 3]. "
   ]
  },
  {
   "cell_type": "code",
   "execution_count": 6,
   "metadata": {},
   "outputs": [
    {
     "name": "stdout",
     "output_type": "stream",
     "text": [
      "{3, 'apple'}\n",
      "{'red', 'green'}\n"
     ]
    }
   ],
   "source": [
    "\n",
    "list1=[4, 'apple', 10, 'hi', 3]\n",
    "list2=[23 ,'apple', 5, 9, 3]\n",
    "\n",
    "\n",
    "list_e = ['red', 'blue', 'green']\n",
    "list_f = ['yellow', 'green', 'purple', 'red']\n",
    "\n",
    "\n",
    "\n",
    "def lists_similar(list_a,list_b):\n",
    "    list_c=set(list_a).intersection(list_b)\n",
    "    print(list_c)\n",
    "\n",
    "\n",
    "lists_similar(list1,list2)\n",
    "lists_similar(list_e,list_f)\n",
    "\n",
    " "
   ]
  },
  {
   "cell_type": "markdown",
   "metadata": {},
   "source": [
    "# 8\n",
    ". Många barn tror att de blev till genom att en stork kom och lämnade dem till deras\n",
    "föräldrar. För att undersöka det kan vi kolla på data och det finns en graf enligt figuren\n",
    "nedan. Det verkar alltså finnas ett samband mellan antalet storkar och barnafödsel!?\n",
    "Stämmer påståendet? Använd begreppet ”kausalitet” i ditt svar. \n",
    "\n",
    "the answer:\n",
    "The graph presents a relationship between stork population and human birth numbers which does not prove storks deliver babies. A relationship between variables does not show causation. The rising number of storks and human birth rates rise in rural areas because these regions maintain larger families. Both storks and children appear more frequently in rural areas yet one creature does not trigger the arrival of the other. The argument about causality cannot be supported with our current understanding."
   ]
  },
  {
   "cell_type": "markdown",
   "metadata": {},
   "source": [
    "# 9\n",
    "\n",
    "Kim påstår att ”medelvärdet” är ett bättre mått än ”medianvärdet”. Håller du med Kim?\n",
    "\n",
    "It depends on the situation. The mean can be useful if the values are evenly distributed, but the median is often better when there are extreme values (very high or very low numbers) that can skew the mean.\n",
    "Example: If you're calculating the average salary in a company and one person earns much more than everyone else, the mean will be misleading. In that case, the median gives a more accurate picture of what most people earn.\n",
    "\n",
    "Example:\n"
   ]
  },
  {
   "cell_type": "code",
   "execution_count": 7,
   "metadata": {},
   "outputs": [
    {
     "name": "stdout",
     "output_type": "stream",
     "text": [
      "Mean: 41200.0\n",
      "Median: 27000.0\n"
     ]
    }
   ],
   "source": [
    "import numpy as np\n",
    "\n",
    "salaries = [25000, 26000, 27000, 28000, 100000]\n",
    "\n",
    "mean = np.mean(salaries)\n",
    "median = np.median(salaries)\n",
    "\n",
    "print(f\"Mean: {mean}\")\n",
    "print(f\"Median: {median}\")\n"
   ]
  },
  {
   "cell_type": "markdown",
   "metadata": {},
   "source": [
    "# 10\n",
    "\n",
    "Vad används cirkeldiagram för? Ge ett exempel på vad ett företag som Spotify hade kunnat använda cirkeldiagram för.\n",
    "\n",
    "\n",
    "Pie charts are used to show how different parts make up a whole, usually in percentages.\n",
    "Example: Spotify could use a pie chart to show the percentage of total listening by genre – for example, pop: 40%, rock: 25%, hip-hop: 20%, classical: 10%, other: 5%."
   ]
  },
  {
   "cell_type": "code",
   "execution_count": 1,
   "metadata": {},
   "outputs": [
    {
     "data": {
      "image/png": "[encoded data removed]",
      "text/plain": [
       "<Figure size 600x600 with 1 Axes>"
      ]
     },
     "metadata": {},
     "output_type": "display_data"
    }
   ],
   "source": [
    "import matplotlib.pyplot as plt\n",
    "\n",
    "genres = ['Pop', 'Rock', 'Hip-hop', 'Classical', 'Jazz']\n",
    "percentages = [35, 25, 20, 10, 10]\n",
    "\n",
    "plt.figure(figsize=(6, 6))\n",
    "plt.pie(percentages, labels=genres, autopct='%1.1f%%', startangle=140)\n",
    "plt.title('Spotify Listening Time by Genre')\n",
    "plt.axis('equal')\n",
    "plt.show()\n"
   ]
  },
  {
   "cell_type": "markdown",
   "metadata": {},
   "source": [
    "# 11 \n",
    " Vad används linjediagram för? Ge ett exempel på vad ett företag som Spotify hade kunnat använda linjediagram för.\n",
    "\n",
    "\n",
    "Line charts are used to show changes over time.\n",
    "Example: Spotify could use a line chart to show the number of daily active users each month over the course of a year.\n",
    "\n",
    "\n"
   ]
  },
  {
   "cell_type": "code",
   "execution_count": 5,
   "metadata": {},
   "outputs": [
    {
     "data": {
      "image/png": "[encoded data removed]",
      "text/plain": [
       "<Figure size 640x480 with 1 Axes>"
      ]
     },
     "metadata": {},
     "output_type": "display_data"
    }
   ],
   "source": [
    "import matplotlib.pyplot as plt\n",
    "\n",
    "months = ['Jan', 'Feb', 'Mar', 'Apr', 'May', 'Jun']\n",
    "users = [10, 11, 12.5, 14, 15, 16]  \n",
    "\n",
    "plt.plot(months, users, marker='o')\n",
    "plt.title('Spotify Daily Active Users Over Time')\n",
    "plt.xlabel('Month')\n",
    "plt.ylabel('Users (millions)')\n",
    "plt.grid(True)\n",
    "plt.show()\n"
   ]
  },
  {
   "cell_type": "markdown",
   "metadata": {},
   "source": [
    "# 12 \n",
    "What are box plots used for?\n",
    "\n",
    "Box plots (also called box-and-whisker plots) are used to show the distribution and spread of data – including the median, quartiles, and any outliers (unusual values).\n",
    "Example: A company could use a box plot to analyze how much time users of different age groups spend on the app each day, and see if there are big differences or unusual patterns."
   ]
  },
  {
   "cell_type": "code",
   "execution_count": 4,
   "metadata": {},
   "outputs": [
    {
     "data": {
      "image/png": "[encoded data removed]",
      "text/plain": [
       "<Figure size 800x600 with 1 Axes>"
      ]
     },
     "metadata": {},
     "output_type": "display_data"
    }
   ],
   "source": [
    "import seaborn as sns\n",
    "import matplotlib.pyplot as plt\n",
    "import pandas as pd\n",
    "\n",
    "data = {\n",
    "    'Age Group': ['13-18'] * 5 + ['19-25'] * 6 + ['26-35'] * 5,\n",
    "    'Listening Time (hrs/day)': [2, 2.5, 3, 3.5, 4, 1, 2, 4, 6, 8, 6, 0.5, 1, 2, 3, 3]\n",
    "}\n",
    "\n",
    "df = pd.DataFrame(data)\n",
    "\n",
    "plt.figure(figsize=(8, 6))\n",
    "sns.boxplot(x='Age Group', y='Listening Time (hrs/day)', data=df)\n",
    "plt.title('Spotify Daily Listening Time by Age Group')\n",
    "plt.show()\n"
   ]
  },
  {
   "cell_type": "markdown",
   "metadata": {},
   "source": [
    "# Självutvärdering: Reflektion över Kunskapskontrollen\n",
    "\n",
    "1. Vad har varit roligast i kunskapskontrollen?\n",
    "\n",
    "Ärligt talat, allt har varit otroligt engagerande och lärorikt! Att lära mig grunderna i Python och dyka in i dataanalysens värld var väldigt roligt, särskilt den praktiska upplevelsen av att tillämpa kod och omedelbart se resultatet. Kraften i att plotta för att visualisera data på ett så tydligt och läsbart sätt var verkligen tillfredsställande.\n",
    "\n",
    "Det som fascinerade mig mest var diamantanalysen. Det var mitt första djupdyk i den gnistrande världen, och att utforska hur olika egenskaper påverkar priset var fascinerande. Jag blev genuint överraskad! Jag trodde initialt att vikt (carat) var den enda, överväldigande faktorn, men jag upptäckte snabbt hur slipning (cut) och klarhet (clarity) spelar en lika betydande och komplex roll i att bestämma en diamants värde. Den insikten var ett riktigt \"aha!\"-ögonblick.\n",
    "\n",
    "2. Vilket betyg anser du att du ska ha och varför?\n",
    "\n",
    "För mig är själva betyget inte det primära fokus. Det som verkligen betyder något är arbetsflödet och den djupa känslan av prestation jag upplevde under hela projektet. Processen att förfina mina svar och se min förståelse växa var otroligt givande. Denna uppgift fördjupade min uppskattning för Python; jag är nu säker på att det kommer att vara mitt föredragna språk för framtida arbete.\n",
    "\n",
    "I slutändan skulle jag älska att uppnå det högsta betyget (VG). Inte bara för erkännandet, utan som en stark uppmuntran att fortsätta lära mig och en knuff att fortsätta utforska datavetenskap. Det skulle vara ett underbart sätt att fira mina ansträngningar och gå in i sommarlovet med ett glatt och motiverat sinne!\n",
    "\n",
    "3. Vad har varit mest utmanande i arbetet och hur har du hanterat det?\n",
    "\n",
    "Den absolut svåraste delen var planeringen och strukturerandet av Del 2 i Jupyter Notebook. Jag spenderade cirka tre dagar enbart på att städa upp och organisera den för att säkerställa att den hade ett logiskt flöde och var lätt att följa.\n",
    "\n",
    "En annan utmaning var att bestämma vad som skulle visas i Streamlit-appen. Med så mycket data var det en uppgift att destillera det. Jag fokuserade på att presentera endast de mest avgörande och effektfulla insikterna, med målet att uppnå klarhet och relevans snarare än att överväldiga användaren med allt."
   ]
  }
 ],
 "metadata": {
  "kernelspec": {
   "display_name": "Python 3",
   "language": "python",
   "name": "python3"
  },
  "language_info": {
   "codemirror_mode": {
    "name": "ipython",
    "version": 3
   },
   "file_extension": ".py",
   "mimetype": "text/x-python",
   "name": "python",
   "nbconvert_exporter": "python",
   "pygments_lexer": "ipython3",
   "version": "3.13.3"
  }
 },
 "nbformat": 4,
 "nbformat_minor": 2
}
